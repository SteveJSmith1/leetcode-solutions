{
 "cells": [
  {
   "cell_type": "markdown",
   "metadata": {},
   "source": [
    "# 202. Happy Number\n",
    "\n",
    "## The problem\n",
    "\n",
    "Write an algorithm to determine if a number is \"happy\".\n",
    "\n",
    "A happy number is a number defined by the following process: Starting with any positive integer, replace the number by the sum of the squares of its digits, and repeat the process until the number equals 1 (where it will stay), or it loops endlessly in a cycle which does not include 1. Those numbers for which this process ends in 1 are happy numbers.\n",
    "\n",
    "Example: 19 is a happy number\n",
    "\n",
    "$1^2 + 9^2 = 82$\n",
    "\n",
    "$8^2 + 2^2 = 68$\n",
    "\n",
    "$6^2 + 8^2 = 100$\n",
    "\n",
    "$1^2 + 0^2 + 0^2 = 1$\n",
    "\n",
    "\n",
    "## Implementation\n",
    "\n",
    "\n",
    "Let's begin by defining the solution class and it's function:"
   ]
  },
  {
   "cell_type": "code",
   "execution_count": 1,
   "metadata": {
    "collapsed": true
   },
   "outputs": [],
   "source": [
    "class Solution(object):\n",
    "    def isHappy(self, n):\n",
    "        \"\"\"\n",
    "        :type n: int\n",
    "        :rtype: bool\n",
    "        \"\"\"\n",
    "        return\n"
   ]
  },
  {
   "cell_type": "markdown",
   "metadata": {},
   "source": [
    "Writing the functional tests:"
   ]
  },
  {
   "cell_type": "code",
   "execution_count": 2,
   "metadata": {
    "collapsed": true
   },
   "outputs": [],
   "source": [
    "from nose.tools import assert_equal\n",
    "\n",
    "\n",
    "class TestIsHappy(object):\n",
    "\n",
    "    def test_isHappy(self):\n",
    "        solution = Solution()\n",
    "        \n",
    "        assert_equal(solution.isHappy(19), True)\n",
    "        assert_equal(solution.isHappy(1), True)\n",
    "        assert_equal(solution.isHappy(20), False)\n",
    "        assert_equal(solution.isHappy(123456789), False)\n",
    "        print('Success: test_isHappy')\n",
    "\n",
    "\n",
    "def main():\n",
    "    test = TestIsHappy()\n",
    "    test.test_isHappy()"
   ]
  },
  {
   "cell_type": "markdown",
   "metadata": {},
   "source": [
    "To begin, let us think about what we need to do:\n",
    "\n",
    "1. Get digits from the number\n",
    "\n",
    "        Convert the number to a string and then convert to a list\n",
    "        \n",
    "2. Convert the elements in the list to ints, square them and then sum the list\n",
    "\n",
    "        Check whether the sum is one, if not repeat 1. and 2.\n",
    "        \n",
    "3. Break the loop if it doesn't converge\n",
    "\n",
    "        This will happen if the sum of the squared digits repeats\n",
    "        \n",
    "        \n",
    "Let us look at item 1."
   ]
  },
  {
   "cell_type": "code",
   "execution_count": 3,
   "metadata": {
    "collapsed": false
   },
   "outputs": [
    {
     "name": "stdout",
     "output_type": "stream",
     "text": [
      "['1', '9']\n"
     ]
    }
   ],
   "source": [
    "n = 19\n",
    "# convert the number to a string and then creating a list of digits\n",
    "ln = list(str(n))\n",
    "print(ln)"
   ]
  },
  {
   "cell_type": "markdown",
   "metadata": {},
   "source": [
    "The digits have been successfully converted to elements in a list, they are strings\n",
    "\n",
    "Onto item 2."
   ]
  },
  {
   "cell_type": "code",
   "execution_count": 4,
   "metadata": {
    "collapsed": false
   },
   "outputs": [
    {
     "data": {
      "text/plain": [
       "82"
      ]
     },
     "execution_count": 4,
     "metadata": {},
     "output_type": "execute_result"
    }
   ],
   "source": [
    "# Square each digit in the list and then sum them\n",
    "new_n = [int(i)**2 for i in ln]\n",
    "sum(new_n)\n"
   ]
  },
  {
   "cell_type": "markdown",
   "metadata": {},
   "source": [
    "This has been successful.\n",
    "\n",
    "For 3.\n",
    "\n",
    "Well, this is more tricky as we will need to keep doing this **while** our conditions are not met.\n",
    "\n",
    "This of course involves a **while loop**. While loops are nasty, horrific things that I avoid whenever I can as they have a tendency (through bad code) to loop forever and quickly consume all the memory of a device.\n",
    "I always run a while loop with the mouse hovering over the *stop* button!"
   ]
  },
  {
   "cell_type": "code",
   "execution_count": 5,
   "metadata": {
    "collapsed": false
   },
   "outputs": [
    {
     "name": "stdout",
     "output_type": "stream",
     "text": [
      "Happy\n"
     ]
    }
   ],
   "source": [
    "# number to test on\n",
    "n = 19\n",
    "# 1. create a list of digits from the number\n",
    "ln = list(str(n))\n",
    "# Create a list which will contain all the values from summing the list\n",
    "sum_list = []\n",
    "# Set the variable of the new variable(the one we are tracking, \n",
    "# the sum of digits) to 0\n",
    "sum_n = 0\n",
    "# The conditions:\n",
    "    # The loop will continue while the sum of the digits != 1\n",
    "    # or the sum of the digits is already in our sum_list\n",
    "        # (This means a repetition, which shows non-convergence to 1)\n",
    "        # We return a value based on this condition so we shall\n",
    "        # nest it in an if-else loop\n",
    "\n",
    "# End if sum equals 1       \n",
    "while sum_n != 1:\n",
    "    # Obtain the sum of the digits squared in the list of digits\n",
    "    sum_n = sum([int(i)**2 for i in ln])\n",
    "    # End if this sum has appeared before\n",
    "    if sum_n in sum_list:\n",
    "        print(\"Not happy\")\n",
    "        break\n",
    "    # If not, add it to sum_list\n",
    "    sum_list.append(sum_n)\n",
    "    # Extract the digits\n",
    "    ln = list(str(sum_n))\n",
    "print(\"Happy\")  \n",
    "    "
   ]
  },
  {
   "cell_type": "markdown",
   "metadata": {},
   "source": [
    "We can now port this code to the function, using ***return*** instead of our ***print*** functions."
   ]
  },
  {
   "cell_type": "code",
   "execution_count": 6,
   "metadata": {
    "collapsed": true
   },
   "outputs": [],
   "source": [
    "class Solution(object):\n",
    "    def isHappy(self, n):\n",
    "        \"\"\"\n",
    "        :type n: int\n",
    "        :rtype: bool\n",
    "        \"\"\"\n",
    "        ln = list(str(n))\n",
    "        sum_list = []\n",
    "        sum_n = 0\n",
    "\n",
    "        while sum_n != 1:\n",
    "            sum_n = sum([int(i)**2 for i in ln])\n",
    "            if sum_n in sum_list:\n",
    "                return False\n",
    "            sum_list.append(sum_n)\n",
    "            ln = list(str(sum_n))\n",
    "  \n",
    "        return True\n"
   ]
  },
  {
   "cell_type": "markdown",
   "metadata": {},
   "source": [
    "And now running the functional tests"
   ]
  },
  {
   "cell_type": "code",
   "execution_count": 7,
   "metadata": {
    "collapsed": false
   },
   "outputs": [
    {
     "name": "stdout",
     "output_type": "stream",
     "text": [
      "Success: test_isHappy\n"
     ]
    }
   ],
   "source": [
    "main()"
   ]
  },
  {
   "cell_type": "markdown",
   "metadata": {},
   "source": [
    "-------------------------\n",
    "\n",
    "We have implemented a successful solution\n",
    "\n",
    "--------------------------"
   ]
  }
 ],
 "metadata": {
  "kernelspec": {
   "display_name": "Python 3",
   "language": "python",
   "name": "python3"
  },
  "language_info": {
   "codemirror_mode": {
    "name": "ipython",
    "version": 3
   },
   "file_extension": ".py",
   "mimetype": "text/x-python",
   "name": "python",
   "nbconvert_exporter": "python",
   "pygments_lexer": "ipython3",
   "version": "3.6.0"
  }
 },
 "nbformat": 4,
 "nbformat_minor": 2
}
