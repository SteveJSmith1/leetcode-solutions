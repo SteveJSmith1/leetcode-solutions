{
 "cells": [
  {
   "cell_type": "markdown",
   "metadata": {},
   "source": [
    "# 345. Reverse Vowels of a String\n",
    "\n",
    "## Problem:\n",
    "\n",
    "Write a function that takes a string as input and reverse only the vowels of a string.\n",
    "\n",
    "Example 1:\n",
    "Given s = \"hello\", return \"holle\".\n",
    "\n",
    "Example 2:\n",
    "Given s = \"leetcode\", return \"leotcede\".\n",
    "\n",
    "## Implementation:\n",
    "\n",
    "First write the bare-bones solution class:\n",
    "\n"
   ]
  },
  {
   "cell_type": "code",
   "execution_count": 1,
   "metadata": {
    "collapsed": true
   },
   "outputs": [],
   "source": [
    "class Solution(object):\n",
    "    def reverseVowels(self, s):\n",
    "        \"\"\"\n",
    "        :type s: str\n",
    "        :rtype: str\n",
    "        \"\"\"\n",
    "        return"
   ]
  },
  {
   "cell_type": "markdown",
   "metadata": {},
   "source": [
    "And now write the test class and functions with what we expect the outputs to be for various inputs:"
   ]
  },
  {
   "cell_type": "code",
   "execution_count": 2,
   "metadata": {
    "collapsed": true
   },
   "outputs": [],
   "source": [
    "from nose.tools import assert_equal\n",
    "\n",
    "\n",
    "class TestReverseVowels(object):\n",
    "\n",
    "    def test_reverseVowels(self):\n",
    "        solution = Solution()\n",
    "        \n",
    "        assert_equal(solution.reverseVowels(\"hello\"), \"holle\")\n",
    "        assert_equal(solution.reverseVowels(\"leetcode\"), \"leotcede\")\n",
    "        assert_equal(solution.reverseVowels(\"\"), \"\")\n",
    "        assert_equal(solution.reverseVowels(\"sky\"), \"sky\")\n",
    "        assert_equal(solution.reverseVowels(\"cat\"), \"cat\")\n",
    "        assert_equal(solution.reverseVowels(\"leet sky cat\"), \"laet sky cet\")\n",
    "        assert_equal(solution.reverseVowels(\"An Invitation\"), \"on invatitIAn\")\n",
    "        print('Success: test_reverseVowels')\n",
    "\n",
    "\n",
    "def main():\n",
    "    test = TestReverseVowels()\n",
    "    test.test_reverseVowels()\n",
    "\n"
   ]
  },
  {
   "cell_type": "markdown",
   "metadata": {},
   "source": [
    "Tests are num written, now to write the code that does what is required.\n",
    "\n",
    "Thoughts on the process:\n",
    "\n",
    "Need to extract the vowels, remember where they were in the string, \n",
    "reverse them and place them back into the string at the correct index.\n",
    "\n",
    "Let's look at extracting the vowels:"
   ]
  },
  {
   "cell_type": "code",
   "execution_count": 8,
   "metadata": {
    "collapsed": false
   },
   "outputs": [
    {
     "name": "stdout",
     "output_type": "stream",
     "text": [
      "['e', 'o']\n"
     ]
    }
   ],
   "source": [
    "s = \"hello\"\n",
    "# Extract the vowels using a list comprehension, checking if they are in a string of vowels\n",
    "vowels = [char for char in s if char in \"aeiouAEIOU\"]\n",
    "print(vowels)"
   ]
  },
  {
   "cell_type": "markdown",
   "metadata": {},
   "source": [
    "So, we can extract the vowels, but we also need the index, to grab the index as well, we can use *enumerate*."
   ]
  },
  {
   "cell_type": "code",
   "execution_count": 10,
   "metadata": {
    "collapsed": false
   },
   "outputs": [
    {
     "name": "stdout",
     "output_type": "stream",
     "text": [
      "[[1, 'e'], [4, 'o']]\n"
     ]
    }
   ],
   "source": [
    "s = \"hello\"\n",
    "# Using enumerate\n",
    "vowel_and_index = [[index, char] for index,char in enumerate(s) if char in \"aeiouAEIOU\"]\n",
    "print(vowel_and_index)\n"
   ]
  },
  {
   "cell_type": "markdown",
   "metadata": {},
   "source": [
    "We can see that 'e' appears at index 1 and 'o' appears at index 4.\n",
    "\n",
    "We need to reverse the order of vowels whilst preserving the indices.\n",
    "\n",
    "We can achieve this by fetching the indices of the vowels, the vowels themselves and then reversing the vowels."
   ]
  },
  {
   "cell_type": "code",
   "execution_count": 14,
   "metadata": {
    "collapsed": false
   },
   "outputs": [
    {
     "name": "stdout",
     "output_type": "stream",
     "text": [
      "[1, 4]\n"
     ]
    }
   ],
   "source": [
    "idx = [index for index, char in vowel_and_index]\n",
    "print(idx)"
   ]
  },
  {
   "cell_type": "code",
   "execution_count": 16,
   "metadata": {
    "collapsed": false
   },
   "outputs": [
    {
     "name": "stdout",
     "output_type": "stream",
     "text": [
      "['e', 'o']\n"
     ]
    }
   ],
   "source": [
    "vowels = [char for index, char in vowel_and_index]\n",
    "print(vowels)"
   ]
  },
  {
   "cell_type": "code",
   "execution_count": 17,
   "metadata": {
    "collapsed": false
   },
   "outputs": [
    {
     "name": "stdout",
     "output_type": "stream",
     "text": [
      "['o', 'e']\n"
     ]
    }
   ],
   "source": [
    "# Reversing a list is easy when you know the python trick!\n",
    "reversed_vowels = vowels[::-1]\n",
    "print(reversed_vowels)"
   ]
  },
  {
   "cell_type": "markdown",
   "metadata": {},
   "source": [
    "We can now zip up the idx and reversed_vowels lists as one list"
   ]
  },
  {
   "cell_type": "code",
   "execution_count": 22,
   "metadata": {
    "collapsed": false
   },
   "outputs": [
    {
     "name": "stdout",
     "output_type": "stream",
     "text": [
      "[[1, 'o'], [4, 'e']]\n"
     ]
    }
   ],
   "source": [
    "idx_rev_vowel = [[i,j] for i, j in zip(idx, reversed_vowels)]\n",
    "print(idx_rev_vowel)"
   ]
  },
  {
   "cell_type": "markdown",
   "metadata": {},
   "source": [
    "and now to place them back into the string.\n",
    "To do this, we are going to convert the string to a list of chars to make use of the pop and insert functions"
   ]
  },
  {
   "cell_type": "code",
   "execution_count": 30,
   "metadata": {
    "collapsed": false
   },
   "outputs": [
    {
     "name": "stdout",
     "output_type": "stream",
     "text": [
      "['h', 'o', 'l', 'l', 'e']\n"
     ]
    }
   ],
   "source": [
    "s = list(\"hello\")\n",
    "for idx, vowel in idx_rev_vowel:\n",
    "    s.pop(idx)\n",
    "    s.insert(idx, vowel)\n",
    "print(s)\n"
   ]
  },
  {
   "cell_type": "markdown",
   "metadata": {},
   "source": [
    "Now to join the characters back together."
   ]
  },
  {
   "cell_type": "code",
   "execution_count": 31,
   "metadata": {
    "collapsed": false
   },
   "outputs": [
    {
     "data": {
      "text/plain": [
       "'holle'"
      ]
     },
     "execution_count": 31,
     "metadata": {},
     "output_type": "execute_result"
    }
   ],
   "source": [
    "''.join(s)"
   ]
  },
  {
   "cell_type": "markdown",
   "metadata": {},
   "source": [
    "We have the required output.\n",
    "Summarising the code:"
   ]
  },
  {
   "cell_type": "code",
   "execution_count": 33,
   "metadata": {
    "collapsed": false
   },
   "outputs": [
    {
     "data": {
      "text/plain": [
       "'holle'"
      ]
     },
     "execution_count": 33,
     "metadata": {},
     "output_type": "execute_result"
    }
   ],
   "source": [
    "s = \"hello\"\n",
    "\n",
    "vowel_and_index = [[index, char] for index,char in enumerate(s) if char in \"aeiouAEIOU\"]\n",
    "idx = [index for index, char in vowel_and_index]\n",
    "vowels = [char for index, char in vowel_and_index]\n",
    "reversed_vowels = vowels[::-1]\n",
    "idx_rev_vowel = [[i,j] for i, j in zip(idx, reversed_vowels)]\n",
    "s = list(s)\n",
    "for idx, vowel in idx_rev_vowel:\n",
    "    s.pop(idx)\n",
    "    s.insert(idx, vowel)\n",
    "''.join(s)\n",
    "\n"
   ]
  },
  {
   "cell_type": "markdown",
   "metadata": {},
   "source": [
    "tidying up the function by applying the list initially."
   ]
  },
  {
   "cell_type": "code",
   "execution_count": 34,
   "metadata": {
    "collapsed": false
   },
   "outputs": [
    {
     "data": {
      "text/plain": [
       "'holle'"
      ]
     },
     "execution_count": 34,
     "metadata": {},
     "output_type": "execute_result"
    }
   ],
   "source": [
    "s = list(\"hello\")\n",
    "\n",
    "vowel_and_index = [[index, char] for index,char in enumerate(s) if char in \"aeiouAEIOU\"]\n",
    "idx = [index for index, char in vowel_and_index]\n",
    "vowels = [char for index, char in vowel_and_index]\n",
    "reversed_vowels = vowels[::-1]\n",
    "idx_rev_vowel = [[i,j] for i, j in zip(idx, reversed_vowels)]\n",
    "\n",
    "for idx, vowel in idx_rev_vowel:\n",
    "    s.pop(idx)\n",
    "    s.insert(idx, vowel)\n",
    "''.join(s)"
   ]
  },
  {
   "cell_type": "markdown",
   "metadata": {},
   "source": [
    "There's too much going on here, idx_rev_vowel can be obtained in less steps:"
   ]
  },
  {
   "cell_type": "code",
   "execution_count": 36,
   "metadata": {
    "collapsed": false
   },
   "outputs": [
    {
     "data": {
      "text/plain": [
       "'holle'"
      ]
     },
     "execution_count": 36,
     "metadata": {},
     "output_type": "execute_result"
    }
   ],
   "source": [
    "s = list(\"hello\")\n",
    "\n",
    "idx = [index for index, char in enumerate(s) if char in \"aeiouAEIOU\"]\n",
    "reversed_vowels = [char for index, char in enumerate(s) if char in \"aeiouAEIOU\"][::-1]\n",
    "idx_rev_vowel = [[i,j] for i, j in zip(idx, reversed_vowels)]\n",
    "\n",
    "for idx, vowel in idx_rev_vowel:\n",
    "    s.pop(idx)\n",
    "    s.insert(idx, vowel)\n",
    "''.join(s)"
   ]
  },
  {
   "cell_type": "markdown",
   "metadata": {},
   "source": [
    "We can collect the zip in the for loop below it:"
   ]
  },
  {
   "cell_type": "code",
   "execution_count": 37,
   "metadata": {
    "collapsed": false
   },
   "outputs": [
    {
     "data": {
      "text/plain": [
       "'holle'"
      ]
     },
     "execution_count": 37,
     "metadata": {},
     "output_type": "execute_result"
    }
   ],
   "source": [
    "s = list(\"hello\")\n",
    "\n",
    "idx = [index for index, char in enumerate(s) if char in \"aeiouAEIOU\"]\n",
    "reversed_vowels = [char for index, char in enumerate(s) if char in \"aeiouAEIOU\"][::-1]\n",
    "\n",
    "for i, v in zip(idx, reversed_vowels):\n",
    "    s.pop(i)\n",
    "    s.insert(i, v)\n",
    "''.join(s)"
   ]
  },
  {
   "cell_type": "markdown",
   "metadata": {},
   "source": [
    "Let us now put this into our function in the Solution class"
   ]
  },
  {
   "cell_type": "code",
   "execution_count": 38,
   "metadata": {
    "collapsed": true
   },
   "outputs": [],
   "source": [
    "class Solution(object):\n",
    "    def reverseVowels(self, s):\n",
    "        \"\"\"\n",
    "        :type s: str\n",
    "        :rtype: str\n",
    "        \"\"\"\n",
    "        # Convert string to list\n",
    "        s = list(s)\n",
    "        # Extract indices and reversed vowels\n",
    "        idx = [index for index, char in enumerate(s) if char in \"aeiouAEIOU\"]\n",
    "        reversed_vowels = [char for index, char in enumerate(s) if char in \"aeiouAEIOU\"][::-1]\n",
    "        # Zip these together and pop the character at the index before inserting\n",
    "        # the char from reversed_vowels at that index\n",
    "        for i, v in zip(idx, reversed_vowels):\n",
    "            s.pop(i)\n",
    "            s.insert(i, v)\n",
    "        # Join the characters in the list\n",
    "        return ''.join(s)"
   ]
  },
  {
   "cell_type": "markdown",
   "metadata": {},
   "source": [
    "And now to check the functional tests"
   ]
  },
  {
   "cell_type": "code",
   "execution_count": 39,
   "metadata": {
    "collapsed": false
   },
   "outputs": [
    {
     "name": "stdout",
     "output_type": "stream",
     "text": [
      "Success: test_reverseVowels\n"
     ]
    }
   ],
   "source": [
    "main()"
   ]
  },
  {
   "cell_type": "markdown",
   "metadata": {},
   "source": [
    "-----------------------------------\n",
    "\n",
    "All functional tests pass, we have successfully implemented a solution.\n",
    "However the function runs slowly for large strings.\n",
    "The time limit is exceeded for a test case with a very large string\n",
    "\n",
    "-----------------------------------"
   ]
  },
  {
   "cell_type": "code",
   "execution_count": null,
   "metadata": {
    "collapsed": true
   },
   "outputs": [],
   "source": []
  }
 ],
 "metadata": {
  "kernelspec": {
   "display_name": "Python 3",
   "language": "python",
   "name": "python3"
  },
  "language_info": {
   "codemirror_mode": {
    "name": "ipython",
    "version": 3
   },
   "file_extension": ".py",
   "mimetype": "text/x-python",
   "name": "python",
   "nbconvert_exporter": "python",
   "pygments_lexer": "ipython3",
   "version": "3.6.0"
  }
 },
 "nbformat": 4,
 "nbformat_minor": 2
}
