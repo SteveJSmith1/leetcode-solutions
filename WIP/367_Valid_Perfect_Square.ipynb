{
 "cells": [
  {
   "cell_type": "markdown",
   "metadata": {},
   "source": [
    "# 367. Valid Perfect Square\n",
    "\n",
    "## The problem:\n",
    "\n",
    "Given a positive integer num, write a function which returns True if num is a perfect square else False.\n",
    "\n",
    "Note: Do not use any built-in library function such as sqrt.\n",
    "\n",
    "Example 1:\n",
    "\n",
    "Input: 16\n",
    "\n",
    "Returns: True\n",
    "\n",
    "Example 2:\n",
    "\n",
    "Input: 14\n",
    "\n",
    "Returns: False\n",
    "\n",
    "## Implementation\n",
    "\n",
    "Let us begin by copying over the solution class"
   ]
  },
  {
   "cell_type": "code",
   "execution_count": 1,
   "metadata": {
    "collapsed": true
   },
   "outputs": [],
   "source": [
    "class Solution(object):\n",
    "    def isPerfectSquare(self, num):\n",
    "        \"\"\"\n",
    "        :type num: int\n",
    "        :rtype: bool\n",
    "        \"\"\"\n",
    "        "
   ]
  },
  {
   "cell_type": "markdown",
   "metadata": {},
   "source": [
    "And creating the test class:\n",
    "\n",
    "It is important to test values which are close to large known squares as rounding can be an issue"
   ]
  },
  {
   "cell_type": "code",
   "execution_count": 2,
   "metadata": {
    "collapsed": true
   },
   "outputs": [],
   "source": [
    "from nose.tools import assert_equal\n",
    "\n",
    "\n",
    "class TestIsPerfectSquare(object):\n",
    "\n",
    "    def test_isPerfectSquare(self):\n",
    "        solution = Solution()\n",
    "        \n",
    "        assert_equal(solution.isPerfectSquare(0), False)\n",
    "        assert_equal(solution.isPerfectSquare(1), True)\n",
    "        assert_equal(solution.isPerfectSquare(-4), False)\n",
    "        assert_equal(solution.isPerfectSquare(1522756), True)\n",
    "        assert_equal(solution.isPerfectSquare(1522757), False)\n",
    "        print('Success: test_isPerfectSquare')\n",
    "\n",
    "\n",
    "def main():\n",
    "    test = TestIsPerfectSquare()\n",
    "    test.test_isPerfectSquare()\n",
    "\n"
   ]
  },
  {
   "cell_type": "markdown",
   "metadata": {},
   "source": [
    "What do we know about square numbers?\n",
    "\n",
    "1. They are always positive\n",
    "2. The square root of a square is in integer\n",
    "\n",
    "We cannot implement sqrt from math here, we need to use another fact.\n",
    "$\\sqrt(x) = x^\\frac{1}{2}$"
   ]
  },
  {
   "cell_type": "code",
   "execution_count": 3,
   "metadata": {
    "collapsed": false
   },
   "outputs": [
    {
     "name": "stdout",
     "output_type": "stream",
     "text": [
      "4.0\n",
      "4.123105625617661\n"
     ]
    }
   ],
   "source": [
    "print(16 ** 0.5)\n",
    "print(17 ** 0.5)\n"
   ]
  },
  {
   "cell_type": "markdown",
   "metadata": {},
   "source": [
    "Whilst returned as floats, it is clear that 4.0 is an integer whilst 4.123... is not.\n",
    "\n",
    "\n",
    "Let's have a look at much larger numbers:\n"
   ]
  },
  {
   "cell_type": "code",
   "execution_count": 4,
   "metadata": {
    "collapsed": false
   },
   "outputs": [
    {
     "name": "stdout",
     "output_type": "stream",
     "text": [
      "1234.0\n",
      "1234.0004051863193\n"
     ]
    }
   ],
   "source": [
    "print(1522756**0.5)\n",
    "print(1522757**0.5)\n"
   ]
  },
  {
   "cell_type": "markdown",
   "metadata": {},
   "source": [
    "The square root of 1522757 is not an integer, this is good.\n",
    "\n",
    "So, if the square root of the number is an integer then the number is a perfect square, if not then it isn't.\n",
    "\n",
    "## Pseudocode:\n",
    "\n",
    "1. raise a number to a power of 0.5\n",
    "\n",
    "2. If number is an integer, return True, else False\n",
    "\n",
    "For item 2, we can divide the returned number by a rounded version of that number.\n",
    "If it isn't 1, then it is not a square number."
   ]
  },
  {
   "cell_type": "code",
   "execution_count": 5,
   "metadata": {
    "collapsed": false
   },
   "outputs": [
    {
     "data": {
      "text/plain": [
       "True"
      ]
     },
     "execution_count": 5,
     "metadata": {},
     "output_type": "execute_result"
    }
   ],
   "source": [
    "num = 1522756\n",
    "res = num**0.5\n",
    "res / int(res) == 1"
   ]
  },
  {
   "cell_type": "code",
   "execution_count": 6,
   "metadata": {
    "collapsed": false
   },
   "outputs": [
    {
     "data": {
      "text/plain": [
       "False"
      ]
     },
     "execution_count": 6,
     "metadata": {},
     "output_type": "execute_result"
    }
   ],
   "source": [
    "num = 1522757\n",
    "res = num**0.5\n",
    "res / int(res) == 1"
   ]
  },
  {
   "cell_type": "markdown",
   "metadata": {},
   "source": [
    "The problem appears to be solved, but wait, what if a negative number is passed?"
   ]
  },
  {
   "cell_type": "code",
   "execution_count": 7,
   "metadata": {
    "collapsed": false
   },
   "outputs": [
    {
     "ename": "TypeError",
     "evalue": "can't convert complex to int",
     "output_type": "error",
     "traceback": [
      "\u001b[0;31m---------------------------------------------------------------------------\u001b[0m",
      "\u001b[0;31mTypeError\u001b[0m                                 Traceback (most recent call last)",
      "\u001b[0;32m<ipython-input-7-affc5b9ea18a>\u001b[0m in \u001b[0;36m<module>\u001b[0;34m()\u001b[0m\n\u001b[1;32m      1\u001b[0m \u001b[0mnum\u001b[0m \u001b[0;34m=\u001b[0m \u001b[0;34m-\u001b[0m\u001b[0;36m4\u001b[0m\u001b[0;34m\u001b[0m\u001b[0m\n\u001b[1;32m      2\u001b[0m \u001b[0mres\u001b[0m \u001b[0;34m=\u001b[0m \u001b[0mnum\u001b[0m\u001b[0;34m**\u001b[0m\u001b[0;36m0.5\u001b[0m\u001b[0;34m\u001b[0m\u001b[0m\n\u001b[0;32m----> 3\u001b[0;31m \u001b[0mres\u001b[0m \u001b[0;34m/\u001b[0m \u001b[0mint\u001b[0m\u001b[0;34m(\u001b[0m\u001b[0mres\u001b[0m\u001b[0;34m)\u001b[0m \u001b[0;34m==\u001b[0m \u001b[0;36m1\u001b[0m\u001b[0;34m\u001b[0m\u001b[0m\n\u001b[0m",
      "\u001b[0;31mTypeError\u001b[0m: can't convert complex to int"
     ]
    }
   ],
   "source": [
    "num = -4\n",
    "res = num**0.5\n",
    "res / int(res) == 1"
   ]
  },
  {
   "cell_type": "markdown",
   "metadata": {},
   "source": [
    "The error is raised because the square root of a negative number is complex.\n",
    "We can split the complex and real parts if negative numbers need to be dealt with, however, in our case we need to filter these out:"
   ]
  },
  {
   "cell_type": "code",
   "execution_count": 8,
   "metadata": {
    "collapsed": false
   },
   "outputs": [
    {
     "name": "stdout",
     "output_type": "stream",
     "text": [
      "Invalid input\n"
     ]
    }
   ],
   "source": [
    "num = -4\n",
    "if num <= 0:\n",
    "    print(\"Invalid input\")\n",
    "else:\n",
    "    res = num**0.5\n",
    "    res / int(res) == 1\n"
   ]
  },
  {
   "cell_type": "markdown",
   "metadata": {},
   "source": [
    "Excellent, now to write the code into the function:"
   ]
  },
  {
   "cell_type": "code",
   "execution_count": 9,
   "metadata": {
    "collapsed": true
   },
   "outputs": [],
   "source": [
    "class Solution(object):\n",
    "    def isPerfectSquare(self, num):\n",
    "        \"\"\"\n",
    "        :type num: int\n",
    "        :rtype: bool\n",
    "        \"\"\"\n",
    "        if num <= 0:\n",
    "            return False\n",
    "        res = num**0.5\n",
    "        return res / int(res) == 1"
   ]
  },
  {
   "cell_type": "markdown",
   "metadata": {},
   "source": [
    "and running it"
   ]
  },
  {
   "cell_type": "code",
   "execution_count": 10,
   "metadata": {
    "collapsed": false
   },
   "outputs": [
    {
     "name": "stdout",
     "output_type": "stream",
     "text": [
      "Success: test_isPerfectSquare\n"
     ]
    }
   ],
   "source": [
    "main()"
   ]
  },
  {
   "cell_type": "markdown",
   "metadata": {},
   "source": [
    "--------------------------\n",
    "\n",
    "Solution has been successfully implemented\n",
    "\n",
    "--------------------------"
   ]
  }
 ],
 "metadata": {
  "kernelspec": {
   "display_name": "Python 3",
   "language": "python",
   "name": "python3"
  },
  "language_info": {
   "codemirror_mode": {
    "name": "ipython",
    "version": 3
   },
   "file_extension": ".py",
   "mimetype": "text/x-python",
   "name": "python",
   "nbconvert_exporter": "python",
   "pygments_lexer": "ipython3",
   "version": "3.6.0"
  }
 },
 "nbformat": 4,
 "nbformat_minor": 2
}
